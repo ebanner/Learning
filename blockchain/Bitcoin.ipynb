{
 "cells": [
  {
   "cell_type": "markdown",
   "id": "6701616c-1012-421b-b926-d856bc7c43ac",
   "metadata": {},
   "source": [
    "# Me\n",
    "\n",
    "\"Make\" a transaction"
   ]
  },
  {
   "cell_type": "code",
   "execution_count": 2,
   "id": "d7889e73-74e3-4288-ab5d-5a1e1962b7bf",
   "metadata": {},
   "outputs": [
    {
     "data": {
      "text/plain": [
       "'EDDIE pays ALBERT 10BTC'"
      ]
     },
     "execution_count": 2,
     "metadata": {},
     "output_type": "execute_result"
    }
   ],
   "source": [
    "transaction = 'EDDIE pays ALBERT 10BTC'\n",
    "transaction"
   ]
  },
  {
   "cell_type": "markdown",
   "id": "831ab93e-9b92-49a8-8c77-6a6e622e46c4",
   "metadata": {},
   "source": [
    "Broadcast to miners"
   ]
  },
  {
   "cell_type": "markdown",
   "id": "8294c186-f12b-4204-8139-4e571f973ffa",
   "metadata": {},
   "source": [
    "# Miner"
   ]
  },
  {
   "cell_type": "code",
   "execution_count": 3,
   "id": "66e078e7-861e-45d2-9904-ee77ec7e22d9",
   "metadata": {},
   "outputs": [
    {
     "data": {
      "text/plain": [
       "['EDDIE pays ALBERT 10BTC']"
      ]
     },
     "execution_count": 3,
     "metadata": {},
     "output_type": "execute_result"
    }
   ],
   "source": [
    "block = []\n",
    "block.append(transaction)\n",
    "\n",
    "block"
   ]
  },
  {
   "cell_type": "markdown",
   "id": "b429e8b0-ccd5-4e2f-b311-4546cb14ff42",
   "metadata": {},
   "source": [
    "Check and see if we're at the block limit"
   ]
  },
  {
   "cell_type": "code",
   "execution_count": 4,
   "id": "bef78a56-f66f-4752-b14a-0b3ea024bf1f",
   "metadata": {},
   "outputs": [],
   "source": [
    "BLOCK_LIMIT = 1\n",
    "\n",
    "if len(block) < BLOCK_LIMIT:\n",
    "    pass"
   ]
  },
  {
   "cell_type": "markdown",
   "id": "c9050c6b-65e3-4c05-ae30-29258de9b69d",
   "metadata": {},
   "source": [
    "Block limit reached. Try to find a hash for the block."
   ]
  },
  {
   "cell_type": "code",
   "execution_count": 82,
   "id": "479beb6e-0e1f-4b83-a6ef-4de8ef353deb",
   "metadata": {},
   "outputs": [
    {
     "name": "stderr",
     "output_type": "stream",
     "text": [
      "  0%|                                                                 | 407808/1000000000000 [00:01<764:18:50, 363433.89it/s]\n"
     ]
    },
    {
     "data": {
      "text/plain": [
       "'1111111111111111111110000011100110110100000110101101111010001011110110110011111101011110110111001011001110010110111000111100100100001110011111110110000011101110100100110001010010111111101100111011101010001000010010001111001100000001000000011111111010101110'"
      ]
     },
     "execution_count": 82,
     "metadata": {},
     "output_type": "execute_result"
    }
   ],
   "source": [
    "import hashlib\n",
    "from tqdm import tqdm\n",
    "\n",
    "NUM_ONES = 20\n",
    "MASK = '1'*NUM_ONES + '0'*(256-NUM_ONES)\n",
    "\n",
    "\n",
    "def hash_sha256(block):\n",
    "    sha256_hash = hashlib.sha256()\n",
    "    block_bytes = str(block).encode('utf-8')\n",
    "    sha256_hash.update(block_bytes)\n",
    "    hash_digest = sha256_hash.hexdigest()\n",
    "    binary_hash = bin(int(hash_digest, 16))[2:].zfill(256)\n",
    "    return binary_hash\n",
    "\n",
    "\n",
    "def guess_proof_of_work(block):\n",
    "    hashed_block = hash_sha256(block)\n",
    "    result = int(MASK, 2) & int(hashed_block, 2)\n",
    "    valid = bin(result)[2:].zfill(256) == MASK\n",
    "    return valid\n",
    "\n",
    "\n",
    "i = 0\n",
    "for i in tqdm(range(1_000_000_000_000)):\n",
    "    block_ = block + [i]\n",
    "    found = guess_proof_of_work(block_)\n",
    "    if found:\n",
    "        break\n",
    "    else:\n",
    "        i += 1\n",
    "\n",
    "hash_sha256(block_)"
   ]
  }
 ],
 "metadata": {
  "kernelspec": {
   "display_name": "Python 3 (ipykernel)",
   "language": "python",
   "name": "python3"
  },
  "language_info": {
   "codemirror_mode": {
    "name": "ipython",
    "version": 3
   },
   "file_extension": ".py",
   "mimetype": "text/x-python",
   "name": "python",
   "nbconvert_exporter": "python",
   "pygments_lexer": "ipython3",
   "version": "3.9.6"
  }
 },
 "nbformat": 4,
 "nbformat_minor": 5
}
