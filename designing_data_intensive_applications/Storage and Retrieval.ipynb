{
 "cells": [
  {
   "cell_type": "markdown",
   "id": "52ee6061-86f3-4102-b873-05ee9f1e3c03",
   "metadata": {},
   "source": [
    "# Hash Indexes\n",
    "\n",
    "In memory hash map"
   ]
  },
  {
   "cell_type": "code",
   "execution_count": 56,
   "id": "d4ba4267-bf40-4b4f-a954-d686a8b1a833",
   "metadata": {},
   "outputs": [
    {
     "data": {
      "text/plain": [
       "'123456,{\"name\":\"London\",\"attractions\":[\"Big Ben\",\"London Eye\"]}\\n42,{\"name\":\"San Francisco\",\"attractions\":[\"Golden Gate Bridge\"]}\\n42,{\"name\":\"San Francisco\",\"attractions\":[\"Exploratorium\"]}\\n'"
      ]
     },
     "execution_count": 56,
     "metadata": {},
     "output_type": "execute_result"
    }
   ],
   "source": [
    "class Database:\n",
    "    db = \"\"\n",
    "    index = {}\n",
    "\n",
    "    def __init__(self):\n",
    "        pass\n",
    "\n",
    "    def set(self, key, value):\n",
    "        self.index[key] = len(self.db)\n",
    "        self.db += f\"{key},{value}\\n\"\n",
    "\n",
    "    def get(self, key):\n",
    "        if key not in self.index:\n",
    "            return None\n",
    "\n",
    "        offset = self.index[key]\n",
    "        pair = []\n",
    "        char = self.db[offset]\n",
    "        while True:\n",
    "            if char == '\\n':\n",
    "                break\n",
    "\n",
    "            pair.append(char)\n",
    "            offset += 1\n",
    "            char = self.db[offset]\n",
    "\n",
    "        pair = ''.join(pair)\n",
    "        value = pair.split(key)[1]\n",
    "        return value[1:] # no comma\n",
    "\n",
    "db = Database()\n",
    "\n",
    "db.set(\"123456\", '{\"name\":\"London\",\"attractions\":[\"Big Ben\",\"London Eye\"]}')\n",
    "db.set(\"42\", '{\"name\":\"San Francisco\",\"attractions\":[\"Golden Gate Bridge\"]}')\n",
    "db.set(\"42\", '{\"name\":\"San Francisco\",\"attractions\":[\"Exploratorium\"]}')\n",
    "\n",
    "db.db"
   ]
  },
  {
   "cell_type": "code",
   "execution_count": 58,
   "id": "0c5b63da-07e1-4576-8f3a-0fbe25cd9d1d",
   "metadata": {},
   "outputs": [
    {
     "data": {
      "text/plain": [
       "'{\"name\":\"London\",\"attractions\":[\"Big Ben\",\"London Eye\"]}'"
      ]
     },
     "execution_count": 58,
     "metadata": {},
     "output_type": "execute_result"
    }
   ],
   "source": [
    "db.get(\"123456\")"
   ]
  },
  {
   "cell_type": "markdown",
   "id": "606b4e37-0735-4f0f-8790-ff4a120fbee1",
   "metadata": {},
   "source": [
    "# Compaction"
   ]
  },
  {
   "cell_type": "code",
   "execution_count": 124,
   "id": "cd7efd84-fa89-4021-a592-ea225b7d51d9",
   "metadata": {},
   "outputs": [
    {
     "data": {
      "text/plain": [
       "'mew,1078\\npurr,2103\\npurr,2104\\nmew,1079\\nmew,1080\\nmew,1081\\npurr,2105\\npurr,2106\\npurr,2107\\nyawn,511\\npurr,2108\\nmew,1082\\n'"
      ]
     },
     "execution_count": 124,
     "metadata": {},
     "output_type": "execute_result"
    }
   ],
   "source": [
    "class Database:\n",
    "    def __init__(self):\n",
    "        self.db = \"\"\n",
    "        self.index = {}\n",
    "        self.log = []\n",
    "\n",
    "    def set(self, key, value):\n",
    "        offset = len(self.db)\n",
    "        log_entry = [offset, key, value]\n",
    "        self.log.append(log_entry)\n",
    "        self.index[key] = offset\n",
    "        self.db += f\"{key},{value}\\n\"\n",
    "\n",
    "    def get(self, key):\n",
    "        if key not in self.index:\n",
    "            return None\n",
    "\n",
    "        offset = self.index[key]\n",
    "        pair = self.get_pair(offset)\n",
    "        value = self.get_value(pair, key)\n",
    "        return value\n",
    "\n",
    "    def get_pair(self, offset):\n",
    "        pair = []\n",
    "        char = self.db[offset]\n",
    "        while True:\n",
    "            if char == '\\n':\n",
    "                break\n",
    "\n",
    "            pair.append(char)\n",
    "            offset += 1\n",
    "            char = self.db[offset]\n",
    "\n",
    "        pair = ''.join(pair)\n",
    "        return pair # no comma\n",
    "\n",
    "    def get_value(self, pair, key):\n",
    "        _, value = pair.split(key)\n",
    "        return value[1:] # no comma\n",
    "\n",
    "    def overwrite(self, entries):\n",
    "        self.db = \"\"\n",
    "        for key, value in entries.items():\n",
    "            self.set(key, value)\n",
    "\n",
    "    def compact(self):\n",
    "        entries = {}\n",
    "        for offset, key, value in self.log:\n",
    "            entries[key] = value\n",
    "\n",
    "        self.overwrite(entries)\n",
    "\n",
    "        return self.db\n",
    "\n",
    "db = Database()\n",
    "\n",
    "entries = [\n",
    "    (\"mew\", \"1078\"),\n",
    "    (\"purr\", \"2103\"),\n",
    "    (\"purr\", \"2104\"),\n",
    "    (\"mew\", \"1079\"),\n",
    "    (\"mew\", \"1080\"),\n",
    "    (\"mew\", \"1081\"),\n",
    "    (\"purr\", \"2105\"),\n",
    "    (\"purr\", \"2106\"),\n",
    "    (\"purr\", \"2107\"),\n",
    "    (\"yawn\", \"511\"),\n",
    "    (\"purr\", \"2108\"),\n",
    "    (\"mew\", \"1082\"),\n",
    "]\n",
    "\n",
    "for key, value in entries:\n",
    "    db.set(key, value)\n",
    "\n",
    "db.db"
   ]
  },
  {
   "cell_type": "code",
   "execution_count": 103,
   "id": "4b4ac469-ab12-4065-b608-52547ec62d6f",
   "metadata": {},
   "outputs": [
    {
     "data": {
      "text/plain": [
       "[[0, 'mew', '1078'],\n",
       " [9, 'purr', '2103'],\n",
       " [19, 'purr', '2104'],\n",
       " [29, 'mew', '1079'],\n",
       " [38, 'mew', '1080'],\n",
       " [47, 'mew', '1081'],\n",
       " [56, 'purr', '2105'],\n",
       " [66, 'purr', '2106'],\n",
       " [76, 'purr', '2107'],\n",
       " [86, 'yawn', '511'],\n",
       " [95, 'purr', '2108'],\n",
       " [105, 'mew', '1082']]"
      ]
     },
     "execution_count": 103,
     "metadata": {},
     "output_type": "execute_result"
    }
   ],
   "source": [
    "db.log"
   ]
  },
  {
   "cell_type": "code",
   "execution_count": 104,
   "id": "ad829d27-f6e0-44d5-a707-d0b017198c8b",
   "metadata": {},
   "outputs": [
    {
     "data": {
      "text/plain": [
       "'mew,1082\\npurr,2108\\nyawn,511\\n'"
      ]
     },
     "execution_count": 104,
     "metadata": {},
     "output_type": "execute_result"
    }
   ],
   "source": [
    "db.compact()"
   ]
  },
  {
   "cell_type": "markdown",
   "id": "d633af85-1ee1-46eb-adf6-2ac434695fc7",
   "metadata": {},
   "source": [
    "# Segment Files"
   ]
  },
  {
   "cell_type": "code",
   "execution_count": 144,
   "id": "83d05560-d968-4974-b687-2735a28b3f92",
   "metadata": {},
   "outputs": [
    {
     "name": "stdout",
     "output_type": "stream",
     "text": [
      "'purr,2110\\nmew,1083\\nscratch,252\\nmew,1084\\nmew,1085\\npurr,2111\\nmew,1086\\npurr,2112\\npurr,2113\\nmew,1087\\npurr,2114\\n'\n",
      "'mew,1078\\npurr,2103\\npurr,2104\\nmew,1079\\nmew,1080\\nmew,1081\\npurr,2105\\npurr,2106\\npurr,2107\\nyawn,511\\npurr,2108\\nmew,1082\\npurr,2109\\n'\n"
     ]
    }
   ],
   "source": [
    "class Segment:\n",
    "    def __init__(self):\n",
    "        self.contents = \"\"\n",
    "        self.index = {}\n",
    "        self.log = []\n",
    "\n",
    "    def __len__(self):\n",
    "        return len(self.log)\n",
    "\n",
    "    def set(self, key, value):\n",
    "        offset = len(self.contents)\n",
    "        log_entry = [offset, key, value]\n",
    "        self.log.append(log_entry)\n",
    "        self.index[key] = offset\n",
    "        self.contents += f\"{key},{value}\\n\"\n",
    "\n",
    "    def get(self, key):\n",
    "        if key not in self.index:\n",
    "            return None\n",
    "\n",
    "        offset = self.index[key]\n",
    "        pair = self.get_pair(offset)\n",
    "        value = self.get_value(pair, key)\n",
    "        return value\n",
    "\n",
    "    def get_pair(self, offset):\n",
    "        pair = []\n",
    "        char = self.contents[offset]\n",
    "        while True:\n",
    "            if char == '\\n':\n",
    "                break\n",
    "\n",
    "            pair.append(char)\n",
    "            offset += 1\n",
    "            char = self.contents[offset]\n",
    "\n",
    "        pair = ''.join(pair)\n",
    "        return pair # no comma\n",
    "\n",
    "    def get_value(self, pair, key):\n",
    "        _, value = pair.split(key)\n",
    "        return value[1:] # no comma\n",
    "\n",
    "    def overwrite(self, entries):\n",
    "        self.contents = \"\"\n",
    "        for key, value in entries.items():\n",
    "            self.set(key, value)\n",
    "\n",
    "    def compact(self):\n",
    "        entries = {}\n",
    "        for offset, key, value in self.log:\n",
    "            entries[key] = value\n",
    "\n",
    "        self.overwrite(entries)\n",
    "\n",
    "        return self.contents\n",
    "\n",
    "\n",
    "class Database:\n",
    "    def __init__(self):\n",
    "        self.segments = [Segment()]\n",
    "\n",
    "    def set(self, key, value):\n",
    "        segment = self.segments[0]\n",
    "        if len(segment) > 12:\n",
    "            new_segment = Segment()\n",
    "            self.segments = [new_segment] + self.segments\n",
    "\n",
    "        segment = self.segments[0]\n",
    "        segment.set(key, value)\n",
    "\n",
    "    def get(self, key):\n",
    "        for segment in segments:\n",
    "            if key in segment.index:\n",
    "                return segment.get(key)\n",
    "\n",
    "\n",
    "    def compact(self):\n",
    "        for segment in self.segments:\n",
    "            segment.compact()\n",
    "\n",
    "        new_segment = Segment()\n",
    "        for segment in reversed(self.segments):\n",
    "            for key in segment.index:\n",
    "                value = segment.get(key)\n",
    "                new_segment.set(key, value)\n",
    "\n",
    "        new_segment.compact()\n",
    "\n",
    "        self.segments = [new_segment]\n",
    "\n",
    "        return [segment.contents for segment in self.segments]\n",
    "\n",
    "db = Database()\n",
    "\n",
    "entries = [\n",
    "    (\"mew\", \"1078\"),\n",
    "    (\"purr\", \"2103\"),\n",
    "    (\"purr\", \"2104\"),\n",
    "    (\"mew\", \"1079\"),\n",
    "    (\"mew\", \"1080\"),\n",
    "    (\"mew\", \"1081\"),\n",
    "    (\"purr\", \"2105\"),\n",
    "    (\"purr\", \"2106\"),\n",
    "    (\"purr\", \"2107\"),\n",
    "    (\"yawn\", \"511\"),\n",
    "    (\"purr\", \"2108\"),\n",
    "    (\"mew\", \"1082\"),\n",
    "    (\"purr\", \"2109\"),\n",
    "    (\"purr\", \"2110\"),\n",
    "    (\"mew\", \"1083\"),\n",
    "    (\"scratch\", \"252\"),\n",
    "    (\"mew\", \"1084\"),\n",
    "    (\"mew\", \"1085\"),\n",
    "    (\"purr\", \"2111\"),\n",
    "    (\"mew\", \"1086\"),\n",
    "    (\"purr\", \"2112\"),\n",
    "    (\"purr\", \"2113\"),\n",
    "    (\"mew\", \"1087\"),\n",
    "    (\"purr\", \"2114\"),\n",
    "]\n",
    "\n",
    "for key, value in entries:\n",
    "    db.set(key, value)\n",
    "\n",
    "for segment in db.segments:\n",
    "    print(repr(segment.contents))"
   ]
  },
  {
   "cell_type": "code",
   "execution_count": 145,
   "id": "f8ae056a-de77-4418-afdf-1087fa3587db",
   "metadata": {},
   "outputs": [
    {
     "data": {
      "text/plain": [
       "['mew,1087\\npurr,2114\\nyawn,511\\nscratch,252\\n']"
      ]
     },
     "execution_count": 145,
     "metadata": {},
     "output_type": "execute_result"
    }
   ],
   "source": [
    "db.compact()"
   ]
  },
  {
   "cell_type": "markdown",
   "id": "c680ed0d-0b65-4022-a042-77a8df23c2d2",
   "metadata": {},
   "source": [
    "# SSTable\n",
    "\n",
    "Merging segments"
   ]
  },
  {
   "cell_type": "code",
   "execution_count": 47,
   "id": "1511d77f-ba1b-44c8-8633-d2305235f1f6",
   "metadata": {},
   "outputs": [
    {
     "data": {
      "text/plain": [
       "[[('handful', '44662'), ('handicap', '70836'), ('handiwork', '45521'), ('handlebars', '3869'), ('handoff', '5741'), ('handprinted', '33632')],\n",
       " [('handcuffs', '2729'), ('handful', '42307'), ('handicap', '67884'), ('handiwork', '16912'), ('handkerchief', '20952'), ('handprinted', '15725')],\n",
       " [('handbag', '8786'), ('handful', '40308'), ('handicap', '65995'), ('handkerchief', '16324'), ('handlebars', '3869'), ('handprinted', '11150')]]"
      ]
     },
     "execution_count": 47,
     "metadata": {},
     "output_type": "execute_result"
    }
   ],
   "source": [
    "class Segment:\n",
    "    def __init__(self):\n",
    "        self.contents = []\n",
    "\n",
    "    def set(self, key, value):\n",
    "        self.contents.append((key, value))\n",
    "        self.contents.sort()\n",
    "\n",
    "    def __len__(self):\n",
    "        return len(self.contents)\n",
    "\n",
    "    def __getitem__(self, i):\n",
    "        return self.contents[i]\n",
    "\n",
    "    def __repr__(self):\n",
    "        return str(self.contents)\n",
    "\n",
    "    def get(self, key):\n",
    "        for k, value in self.contents:\n",
    "            if k == key:\n",
    "                return value\n",
    "\n",
    "class Database:\n",
    "    def __init__(self, segments):\n",
    "        self.segments = segments\n",
    "\n",
    "    def compact(self):\n",
    "        indexes = [0]*len(self.segments)\n",
    "        new_segment = Segment()\n",
    "        while True:\n",
    "            j = 0\n",
    "            pairs = []\n",
    "            for i, segment in zip(indexes, self.segments):\n",
    "                if i == len(segment):\n",
    "                    j += 1\n",
    "                    continue\n",
    "\n",
    "                key, value = segment[i]\n",
    "                pair = (key, j, value)\n",
    "                pairs.append(pair)\n",
    "                j += 1\n",
    "\n",
    "            if not pairs:\n",
    "                break\n",
    "\n",
    "            key, index, value = sorted(pairs)[0]\n",
    "            \n",
    "            new_segment.set(key, value)\n",
    "\n",
    "            for k, i, v in pairs:\n",
    "                if k != key:\n",
    "                    continue\n",
    "                indexes[i] += 1\n",
    "\n",
    "        return new_segment\n",
    "\n",
    "entries1 = [\n",
    "    (\"handful\", \"44662\"),\n",
    "    (\"handicap\", \"70836\"),\n",
    "    (\"handiwork\", \"45521\"),\n",
    "    (\"handlebars\", \"3869\"),\n",
    "    (\"handoff\", \"5741\"),\n",
    "    (\"handprinted\", \"33632\"),\n",
    "]\n",
    "\n",
    "segment1 = Segment()\n",
    "for key, value in entries1:\n",
    "    segment1.set(key, value)\n",
    "\n",
    "entries2 = [\n",
    "    (\"handcuffs\", \"2729\"),\n",
    "    (\"handful\", \"42307\"),\n",
    "    (\"handicap\", \"67884\"),\n",
    "    (\"handiwork\", \"16912\"),\n",
    "    (\"handkerchief\", \"20952\"),\n",
    "    (\"handprinted\", \"15725\"),\n",
    "]\n",
    "\n",
    "segment2 = Segment()\n",
    "for key, value in entries2:\n",
    "    segment2.set(key, value)\n",
    "\n",
    "entries3 = [\n",
    "    (\"handbag\", \"8786\"),\n",
    "    (\"handful\", \"40308\"),\n",
    "    (\"handicap\", \"65995\"),\n",
    "    (\"handkerchief\", \"16324\"),\n",
    "    (\"handlebars\", \"3869\"),\n",
    "    (\"handprinted\", \"11150\")\n",
    "]\n",
    "\n",
    "segment3 = Segment()\n",
    "for key, value in entries3:\n",
    "    segment3.set(key, value)\n",
    "\n",
    "segments = [segment1, segment2, segment3]\n",
    "db = Database(segments)\n",
    "\n",
    "db.segments"
   ]
  },
  {
   "cell_type": "code",
   "execution_count": 48,
   "id": "f5230e6b-77c0-4b2c-87e4-c80a6bc932e9",
   "metadata": {},
   "outputs": [
    {
     "data": {
      "text/plain": [
       "[('handbag', '8786'), ('handcuffs', '2729'), ('handful', '44662'), ('handicap', '70836'), ('handiwork', '45521'), ('handkerchief', '20952'), ('handlebars', '3869'), ('handoff', '5741'), ('handprinted', '33632')]"
      ]
     },
     "execution_count": 48,
     "metadata": {},
     "output_type": "execute_result"
    }
   ],
   "source": [
    "db.compact()"
   ]
  }
 ],
 "metadata": {
  "kernelspec": {
   "display_name": "Python 3 (ipykernel)",
   "language": "python",
   "name": "python3"
  },
  "language_info": {
   "codemirror_mode": {
    "name": "ipython",
    "version": 3
   },
   "file_extension": ".py",
   "mimetype": "text/x-python",
   "name": "python",
   "nbconvert_exporter": "python",
   "pygments_lexer": "ipython3",
   "version": "3.12.0"
  }
 },
 "nbformat": 4,
 "nbformat_minor": 5
}
