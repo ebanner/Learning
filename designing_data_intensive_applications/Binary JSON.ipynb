{
 "cells": [
  {
   "cell_type": "markdown",
   "id": "f5f08270-4d11-4acb-a508-a8a3a6d92ea1",
   "metadata": {},
   "source": [
    "# JSON binary encoding"
   ]
  },
  {
   "cell_type": "code",
   "execution_count": 4,
   "id": "5c049718-a287-4020-a84d-eed03d58704a",
   "metadata": {},
   "outputs": [
    {
     "data": {
      "text/plain": [
       "{'userName': 'Martin',\n",
       " 'favoriteNumber': 1337,\n",
       " 'interests': ['daydreaming', 'hacking']}"
      ]
     },
     "execution_count": 4,
     "metadata": {},
     "output_type": "execute_result"
    }
   ],
   "source": [
    "data = {\n",
    "    \"userName\": \"Martin\",\n",
    "    \"favoriteNumber\": 1337,\n",
    "    \"interests\": [\"daydreaming\", \"hacking\"]\n",
    "}\n",
    "\n",
    "data"
   ]
  },
  {
   "cell_type": "code",
   "execution_count": 58,
   "id": "19296aa8-1bbb-4d05-aedb-32a87efac009",
   "metadata": {},
   "outputs": [
    {
     "data": {
      "text/plain": [
       "bytearray(b'\\x83')"
      ]
     },
     "execution_count": 58,
     "metadata": {},
     "output_type": "execute_result"
    }
   ],
   "source": [
    "json_bytes = bytearray()\n",
    "\n",
    "num_fields = 3\n",
    "\n",
    "json_bytes.append(0x80 | num_fields)\n",
    "\n",
    "json_bytes"
   ]
  },
  {
   "cell_type": "code",
   "execution_count": 59,
   "id": "36f19bbd-3a39-416b-b34e-b0198ca0abc1",
   "metadata": {},
   "outputs": [
    {
     "data": {
      "text/plain": [
       "bytearray(b'\\x83\\xa8')"
      ]
     },
     "execution_count": 59,
     "metadata": {},
     "output_type": "execute_result"
    }
   ],
   "source": [
    "STRING_TYPE = 0xa0\n",
    "\n",
    "key_length = len(\"userName\")\n",
    "\n",
    "json_bytes.append(STRING_TYPE | key_length)\n",
    "\n",
    "json_bytes"
   ]
  },
  {
   "cell_type": "code",
   "execution_count": 60,
   "id": "0f28cd91-a20a-4f94-b093-f4ca933f7f76",
   "metadata": {},
   "outputs": [
    {
     "data": {
      "text/plain": [
       "bytearray(b'\\x83\\xa8userName')"
      ]
     },
     "execution_count": 60,
     "metadata": {},
     "output_type": "execute_result"
    }
   ],
   "source": [
    "json_bytes.extend(bytearray(\"userName\", \"utf-8\"))\n",
    "\n",
    "json_bytes"
   ]
  },
  {
   "cell_type": "code",
   "execution_count": 63,
   "id": "80241c84-a987-43a4-b087-9cb3d0b2eaa0",
   "metadata": {},
   "outputs": [
    {
     "data": {
      "text/plain": [
       "bytearray(b'\\x83\\xa8userName\\xa6Martin\\xae')"
      ]
     },
     "execution_count": 63,
     "metadata": {},
     "output_type": "execute_result"
    }
   ],
   "source": [
    "STRING_TYPE = 0xa0\n",
    "\n",
    "key_length = len(\"favoriteNumber\")\n",
    "\n",
    "json_bytes.append(STRING_TYPE | key_length)\n",
    "\n",
    "json_bytes"
   ]
  },
  {
   "cell_type": "code",
   "execution_count": 64,
   "id": "dc90736d-2967-4480-86d1-819e0087a47d",
   "metadata": {},
   "outputs": [
    {
     "data": {
      "text/plain": [
       "bytearray(b'\\x83\\xa8userName\\xa6Martin\\xaefavoriteNumber')"
      ]
     },
     "execution_count": 64,
     "metadata": {},
     "output_type": "execute_result"
    }
   ],
   "source": [
    "json_bytes.extend(bytearray(\"favoriteNumber\", \"utf-8\"))\n",
    "\n",
    "json_bytes"
   ]
  },
  {
   "cell_type": "code",
   "execution_count": 61,
   "id": "a0d2575b-e8ba-476c-82b7-ab4dca0f936f",
   "metadata": {},
   "outputs": [
    {
     "data": {
      "text/plain": [
       "bytearray(b'\\x83\\xa8userName\\xa6')"
      ]
     },
     "execution_count": 61,
     "metadata": {},
     "output_type": "execute_result"
    }
   ],
   "source": [
    "json_bytes.append(STRING_TYPE | len(\"Martin\"))\n",
    "\n",
    "json_bytes"
   ]
  },
  {
   "cell_type": "code",
   "execution_count": 62,
   "id": "c04b61f5-f2ad-4d0f-bc1a-efc9e2fbb42f",
   "metadata": {},
   "outputs": [
    {
     "data": {
      "text/plain": [
       "bytearray(b'\\x83\\xa8userName\\xa6Martin')"
      ]
     },
     "execution_count": 62,
     "metadata": {},
     "output_type": "execute_result"
    }
   ],
   "source": [
    "json_bytes.extend(bytearray(\"Martin\", \"utf-8\"))\n",
    "\n",
    "json_bytes"
   ]
  },
  {
   "cell_type": "code",
   "execution_count": 67,
   "id": "86cc8ce6-bae8-4510-8416-f9d56480c49a",
   "metadata": {},
   "outputs": [
    {
     "name": "stdout",
     "output_type": "stream",
     "text": [
      "b'\\x04\\x00'\n"
     ]
    }
   ],
   "source": [
    "n = 1024\n",
    "b = n.to_bytes(2, byteorder='big')  # 2 bytes, big-endian\n",
    "print(b)  # Output: b'\\x04\\x00'"
   ]
  },
  {
   "cell_type": "code",
   "execution_count": 69,
   "id": "9d485ff1-0037-4bf8-a059-124df98a5431",
   "metadata": {},
   "outputs": [
    {
     "data": {
      "text/plain": [
       "b'\\x00\\x00\\x059'"
      ]
     },
     "execution_count": 69,
     "metadata": {},
     "output_type": "execute_result"
    }
   ],
   "source": [
    "UINT16_TYPE = 0xcd\n",
    "\n",
    "n = 1337\n",
    "\n",
    "n.to_bytes(4)"
   ]
  }
 ],
 "metadata": {
  "kernelspec": {
   "display_name": "Python 3 (ipykernel)",
   "language": "python",
   "name": "python3"
  },
  "language_info": {
   "codemirror_mode": {
    "name": "ipython",
    "version": 3
   },
   "file_extension": ".py",
   "mimetype": "text/x-python",
   "name": "python",
   "nbconvert_exporter": "python",
   "pygments_lexer": "ipython3",
   "version": "3.12.0"
  }
 },
 "nbformat": 4,
 "nbformat_minor": 5
}
