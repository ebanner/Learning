{
 "cells": [
  {
   "cell_type": "markdown",
   "id": "9e968d63-a95e-4e70-a85c-bf38aa01a9c6",
   "metadata": {},
   "source": [
    "# B-Trees"
   ]
  },
  {
   "cell_type": "code",
   "execution_count": 11,
   "id": "1b243fb3-07ff-4092-a401-c9f7d8156d76",
   "metadata": {},
   "outputs": [
    {
     "data": {
      "text/plain": [
       "<__main__.Node at 0x1046479e0>"
      ]
     },
     "execution_count": 11,
     "metadata": {},
     "output_type": "execute_result"
    }
   ],
   "source": [
    "class Node:\n",
    "    def __init__(self, keys, children=None):\n",
    "        self.keys = keys\n",
    "        self.children = children if children else []\n",
    "\n",
    "node = Node(\n",
    "    [10, 18, 25, 32],\n",
    "    [Node([4, 6, 8, 9]), Node([12, 14, 15, 16]), Node([20, 21, 22, 24]), Node([26, 27, 28, 30]), Node([33, 34, 35, 36])]\n",
    ")\n",
    "\n",
    "node"
   ]
  },
  {
   "cell_type": "markdown",
   "id": "9e01b1a4-edd4-4604-bf62-b779bd8a3b7c",
   "metadata": {},
   "source": [
    "# get"
   ]
  },
  {
   "cell_type": "code",
   "execution_count": 32,
   "id": "5e46c3f3-9935-4cc1-b18a-b56e0431243e",
   "metadata": {},
   "outputs": [
    {
     "data": {
      "text/plain": [
       "36"
      ]
     },
     "execution_count": 32,
     "metadata": {},
     "output_type": "execute_result"
    }
   ],
   "source": [
    "class Node:\n",
    "    def __init__(self, keys, children=None):\n",
    "        self.keys = keys\n",
    "        self.children = children if children else []\n",
    "\n",
    "    def _get_node(self, key):\n",
    "        for i, k in enumerate(self.keys):\n",
    "            if key < k:\n",
    "                return self.children[i]\n",
    "                \n",
    "        return self.children[-1]\n",
    "\n",
    "    def get(self, key):\n",
    "        if key in self.keys:\n",
    "            return key\n",
    "\n",
    "        if not self.children:\n",
    "            return None\n",
    "\n",
    "        node = self._get_node(key)\n",
    "        return node.get(key)\n",
    "\n",
    "node = Node(\n",
    "    [10, 18, 25, 32],\n",
    "    [Node([4, 6, 8, 9]), Node([12, 14, 15, 16]), Node([20, 21, 22, 24]), Node([26, 27, 28, 30]), Node([33, 34, 35, 36])]\n",
    ")\n",
    "\n",
    "node.get(36)"
   ]
  },
  {
   "cell_type": "markdown",
   "id": "1bf76be5-55ef-4411-b702-21ccadb46cae",
   "metadata": {},
   "source": [
    "# add"
   ]
  },
  {
   "cell_type": "code",
   "execution_count": 51,
   "id": "fce663be-c8f8-406f-bfea-51e23f501c9a",
   "metadata": {},
   "outputs": [
    {
     "data": {
      "text/plain": [
       "[59]"
      ]
     },
     "execution_count": 51,
     "metadata": {},
     "output_type": "execute_result"
    }
   ],
   "source": [
    "class Node:\n",
    "    MAX_KEYS = 4\n",
    "\n",
    "    def __init__(self, keys, children=None):\n",
    "        self.keys = keys\n",
    "        self.children = children if children else []\n",
    "\n",
    "    def __repr__(self):\n",
    "        return str(self.keys)\n",
    "\n",
    "    def _get_node(self, key):\n",
    "        for i, k in enumerate(self.keys):\n",
    "            if key < k:\n",
    "                return self.children[i]\n",
    "                \n",
    "        return self.children[-1]\n",
    "\n",
    "    def get(self, key):\n",
    "        if key in self.keys:\n",
    "            return key\n",
    "\n",
    "        if not self.children:\n",
    "            return None\n",
    "\n",
    "        node = self._get_node(key)\n",
    "        return node.get(key)\n",
    "\n",
    "\n",
    "    def add(self, key):\n",
    "        self.keys.append(key)\n",
    "        self.keys.sort()\n",
    "        if len(self.bkeys) > self.MAX_KEYS:\n",
    "            left_node = Node(self.keys[:2])\n",
    "            right_node = Node(self.keys[3:])\n",
    "            self.keys = self.keys[2:3]\n",
    "            self.children = [left_node, right_node]\n",
    "        \n",
    "class BTree:\n",
    "    def __init__(self):\n",
    "        self.root = Node(keys=[])\n",
    "\n",
    "    def add(self, key):\n",
    "        node = self.root\n",
    "        node.add(key)\n",
    "\n",
    "tree = BTree()\n",
    "tree.add(59)\n",
    "tree.add(23)\n",
    "tree.add(7)\n",
    "tree.add(97)\n",
    "tree.add(73)\n",
    "\n",
    "tree.root"
   ]
  }
 ],
 "metadata": {
  "kernelspec": {
   "display_name": "Python 3 (ipykernel)",
   "language": "python",
   "name": "python3"
  },
  "language_info": {
   "codemirror_mode": {
    "name": "ipython",
    "version": 3
   },
   "file_extension": ".py",
   "mimetype": "text/x-python",
   "name": "python",
   "nbconvert_exporter": "python",
   "pygments_lexer": "ipython3",
   "version": "3.12.0"
  }
 },
 "nbformat": 4,
 "nbformat_minor": 5
}
