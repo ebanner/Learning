{
 "cells": [
  {
   "cell_type": "markdown",
   "id": "08365deb-13ae-46e6-8aa5-a6f3b73f48d4",
   "metadata": {},
   "source": [
    "# CRF\n",
    "\n",
    "Conditional Random Field"
   ]
  },
  {
   "cell_type": "markdown",
   "id": "5870c342-fe9d-4730-b73e-c71f34cdf0ec",
   "metadata": {},
   "source": [
    "# Vocabulary"
   ]
  },
  {
   "cell_type": "code",
   "execution_count": 1,
   "id": "fd2ad9b0-0d28-4260-968a-9b219a2aaec0",
   "metadata": {},
   "outputs": [
    {
     "data": {
      "text/plain": [
       "['DT', 'N', 'V', 'S']"
      ]
     },
     "execution_count": 1,
     "metadata": {},
     "output_type": "execute_result"
    }
   ],
   "source": [
    "Y = ['DT', 'N', 'V']\n",
    "Y += ['S'] # add in the start token\n",
    "\n",
    "Y"
   ]
  },
  {
   "cell_type": "markdown",
   "id": "f902bb9d-9279-49ea-b13a-d8358d5434e0",
   "metadata": {},
   "source": [
    "# Tokens"
   ]
  },
  {
   "cell_type": "code",
   "execution_count": 2,
   "id": "1ea8544b-9503-4f86-b0fe-f3a746d836a1",
   "metadata": {},
   "outputs": [
    {
     "data": {
      "text/plain": [
       "['barks', 'dog', 'the', 'cat', 'meows']"
      ]
     },
     "execution_count": 2,
     "metadata": {},
     "output_type": "execute_result"
    }
   ],
   "source": [
    "X = ['barks', 'dog', 'the', 'cat', 'meows']\n",
    "\n",
    "X"
   ]
  },
  {
   "cell_type": "markdown",
   "id": "54f93b16-8e98-4180-b149-8dd5c4f8d6aa",
   "metadata": {},
   "source": [
    "# Vectorizers"
   ]
  },
  {
   "cell_type": "code",
   "execution_count": 3,
   "id": "4f5aa783-3613-499a-8bcb-f7fa3fe62813",
   "metadata": {},
   "outputs": [
    {
     "data": {
      "text/plain": [
       "({'DT': 0, 'N': 1, 'V': 2, 'S': 3},\n",
       " {'barks': 0, 'dog': 1, 'the': 2, 'cat': 3, 'meows': 4},\n",
       " {0: 'DT', 1: 'N', 2: 'V', 3: 'S'},\n",
       " {0: 'barks', 1: 'dog', 2: 'the', 3: 'cat', 4: 'meows'})"
      ]
     },
     "execution_count": 3,
     "metadata": {},
     "output_type": "execute_result"
    }
   ],
   "source": [
    "vy = dict(zip(Y, range(len(Y))))\n",
    "vx = dict(zip(X, range(len(X))))\n",
    "vy_ = dict(zip(range(len(Y)), Y))\n",
    "vx_ = dict(zip(range(len(X)), X))\n",
    "\n",
    "vy, vx, vy_, vx_"
   ]
  },
  {
   "cell_type": "markdown",
   "id": "a253991f-71a6-4ed6-93b8-fdade67c3c1f",
   "metadata": {},
   "source": [
    "# Parameters"
   ]
  },
  {
   "cell_type": "code",
   "execution_count": 4,
   "id": "5be9b35a-1b87-4e35-af09-6bc9eabb9758",
   "metadata": {},
   "outputs": [
    {
     "data": {
      "text/plain": [
       "array([[[0.69572436, 0.78344193, 0.72009733, 0.8387908 , 0.55442844],\n",
       "        [0.15617419, 0.61598277, 0.58447397, 0.29841022, 0.80773356],\n",
       "        [0.45377067, 0.2500105 , 0.3515582 , 0.56109327, 0.20888182],\n",
       "        [0.86570667, 0.68282748, 0.63333635, 0.14406861, 0.93078327]],\n",
       "\n",
       "       [[0.97482286, 0.99984454, 0.36385121, 0.71201251, 0.82024602],\n",
       "        [0.42094199, 0.86725683, 0.79892807, 0.91281138, 0.78052751],\n",
       "        [0.30840403, 0.83484733, 0.89057677, 0.89243478, 0.80557992],\n",
       "        [0.40516842, 0.41742901, 0.67848145, 0.55975774, 0.71509369]],\n",
       "\n",
       "       [[0.55053994, 0.03228043, 0.79713854, 0.35161486, 0.47918231],\n",
       "        [0.75705646, 0.12374682, 0.40514984, 0.06169626, 0.81922663],\n",
       "        [0.64233324, 0.30327491, 0.08589306, 0.87952572, 0.9900504 ],\n",
       "        [0.65612408, 0.55687968, 0.31761705, 0.31239793, 0.18561857]],\n",
       "\n",
       "       [[0.46835952, 0.20157274, 0.66319877, 0.95389714, 0.15041852],\n",
       "        [0.91241112, 0.79917948, 0.92988261, 0.11633019, 0.58308228],\n",
       "        [0.54144772, 0.20943835, 0.28134665, 0.54161552, 0.57456811],\n",
       "        [0.98897097, 0.04838471, 0.47986072, 0.8637368 , 0.81247972]]])"
      ]
     },
     "execution_count": 4,
     "metadata": {},
     "output_type": "execute_result"
    }
   ],
   "source": [
    "import numpy as np\n",
    "\n",
    "Λ = np.random.rand(len(Y), len(Y), len(X))\n",
    "Λ"
   ]
  },
  {
   "cell_type": "markdown",
   "id": "7f16bf8d-6742-4acb-9393-f0aac56a5bee",
   "metadata": {},
   "source": [
    "# Sample Input"
   ]
  },
  {
   "cell_type": "code",
   "execution_count": 5,
   "id": "192211b2-98e9-42f3-837f-4cc8076cb0ec",
   "metadata": {},
   "outputs": [
    {
     "name": "stdout",
     "output_type": "stream",
     "text": [
      "['DT', 'N', 'V']\n",
      "['the', 'dog', 'barks']\n"
     ]
    }
   ],
   "source": [
    "y = ['DT', 'N', 'V']\n",
    "\n",
    "x = ['the', 'dog', 'barks']\n",
    "\n",
    "print(y)\n",
    "print(x)"
   ]
  },
  {
   "cell_type": "markdown",
   "id": "e611c0e3-5840-44ec-92b4-bd8af36f7871",
   "metadata": {},
   "source": [
    "# Unnormalized predict\n",
    "\n",
    "Compute $\\text{score}(\\mathbf{y}, \\mathbf{x})$"
   ]
  },
  {
   "cell_type": "code",
   "execution_count": 6,
   "id": "fa1d547c-b3bd-4879-b00f-4f5fc505d033",
   "metadata": {},
   "outputs": [
    {
     "data": {
      "text/plain": [
       "5.153717337672218"
      ]
     },
     "execution_count": 6,
     "metadata": {},
     "output_type": "execute_result"
    }
   ],
   "source": [
    "def predict_score(y, x):\n",
    "    y_ = ['S'] + y\n",
    "    x_ = [None] + x\n",
    "    n = len(x_)\n",
    "    score = 0\n",
    "    for i in range(1, n):\n",
    "        λ = Λ[vy[y_[i-1]], vy[y_[i]], vx[x_[i]]]\n",
    "        score += np.exp(λ)\n",
    "    return score\n",
    "\n",
    "predict_score(y, x)"
   ]
  },
  {
   "cell_type": "markdown",
   "id": "2dc069fd-24c4-408e-bfba-a4a21a1fbcdc",
   "metadata": {},
   "source": [
    "# Normalized predict\n",
    "\n",
    "Compute $p(\\mathbf{y} | \\mathbf{x}) = \\frac{\\displaystyle \\text{score}(\\mathbf{y}, \\mathbf{x})}{\\displaystyle \\sum_{\\mathbf{y}'} \\text{score}(\\mathbf{y}, \\mathbf{x})}$"
   ]
  },
  {
   "cell_type": "markdown",
   "id": "c4779bfd-44c6-4da1-9382-9edb2f183c68",
   "metadata": {},
   "source": [
    "# Initialize DP Table"
   ]
  },
  {
   "cell_type": "code",
   "execution_count": 7,
   "id": "58af5666-38b4-408f-b510-834a746fc8af",
   "metadata": {},
   "outputs": [
    {
     "data": {
      "text/html": [
       "<div>\n",
       "<style scoped>\n",
       "    .dataframe tbody tr th:only-of-type {\n",
       "        vertical-align: middle;\n",
       "    }\n",
       "\n",
       "    .dataframe tbody tr th {\n",
       "        vertical-align: top;\n",
       "    }\n",
       "\n",
       "    .dataframe thead th {\n",
       "        text-align: right;\n",
       "    }\n",
       "</style>\n",
       "<table border=\"1\" class=\"dataframe\">\n",
       "  <thead>\n",
       "    <tr style=\"text-align: right;\">\n",
       "      <th></th>\n",
       "      <th>the</th>\n",
       "      <th>dog</th>\n",
       "      <th>barks</th>\n",
       "    </tr>\n",
       "  </thead>\n",
       "  <tbody>\n",
       "    <tr>\n",
       "      <th>DT</th>\n",
       "      <td>0.0</td>\n",
       "      <td>0.0</td>\n",
       "      <td>0.0</td>\n",
       "    </tr>\n",
       "    <tr>\n",
       "      <th>N</th>\n",
       "      <td>0.0</td>\n",
       "      <td>0.0</td>\n",
       "      <td>0.0</td>\n",
       "    </tr>\n",
       "    <tr>\n",
       "      <th>V</th>\n",
       "      <td>0.0</td>\n",
       "      <td>0.0</td>\n",
       "      <td>0.0</td>\n",
       "    </tr>\n",
       "  </tbody>\n",
       "</table>\n",
       "</div>"
      ],
      "text/plain": [
       "    the  dog  barks\n",
       "DT  0.0  0.0    0.0\n",
       "N   0.0  0.0    0.0\n",
       "V   0.0  0.0    0.0"
      ]
     },
     "execution_count": 7,
     "metadata": {},
     "output_type": "execute_result"
    }
   ],
   "source": [
    "import pandas as pd\n",
    "\n",
    "dp = np.zeros([len(y), len(x)])\n",
    "\n",
    "df = pd.DataFrame(dp, index=y, columns=x)\n",
    "df"
   ]
  },
  {
   "cell_type": "markdown",
   "id": "a0550ae6-a5bd-4a18-a019-d47850c51fef",
   "metadata": {},
   "source": [
    "# Initialize first column\n",
    "\n",
    "By hand ✍️"
   ]
  },
  {
   "cell_type": "code",
   "execution_count": 8,
   "id": "ad9b264c-7b64-430a-9a43-718644b14dc2",
   "metadata": {},
   "outputs": [
    {
     "data": {
      "text/html": [
       "<div>\n",
       "<style scoped>\n",
       "    .dataframe tbody tr th:only-of-type {\n",
       "        vertical-align: middle;\n",
       "    }\n",
       "\n",
       "    .dataframe tbody tr th {\n",
       "        vertical-align: top;\n",
       "    }\n",
       "\n",
       "    .dataframe thead th {\n",
       "        text-align: right;\n",
       "    }\n",
       "</style>\n",
       "<table border=\"1\" class=\"dataframe\">\n",
       "  <thead>\n",
       "    <tr style=\"text-align: right;\">\n",
       "      <th></th>\n",
       "      <th>the</th>\n",
       "      <th>dog</th>\n",
       "      <th>barks</th>\n",
       "    </tr>\n",
       "  </thead>\n",
       "  <tbody>\n",
       "    <tr>\n",
       "      <th>DT</th>\n",
       "      <td>0.663199</td>\n",
       "      <td>0.0</td>\n",
       "      <td>0.0</td>\n",
       "    </tr>\n",
       "    <tr>\n",
       "      <th>N</th>\n",
       "      <td>0.929883</td>\n",
       "      <td>0.0</td>\n",
       "      <td>0.0</td>\n",
       "    </tr>\n",
       "    <tr>\n",
       "      <th>V</th>\n",
       "      <td>0.929883</td>\n",
       "      <td>0.0</td>\n",
       "      <td>0.0</td>\n",
       "    </tr>\n",
       "  </tbody>\n",
       "</table>\n",
       "</div>"
      ],
      "text/plain": [
       "         the  dog  barks\n",
       "DT  0.663199  0.0    0.0\n",
       "N   0.929883  0.0    0.0\n",
       "V   0.929883  0.0    0.0"
      ]
     },
     "execution_count": 8,
     "metadata": {},
     "output_type": "execute_result"
    }
   ],
   "source": [
    "dp[0, 0] = Λ[vy['S'], vy['DT'], vx['the']]\n",
    "dp[1, 0] = Λ[vy['S'], vy['N'], vx['the']]\n",
    "dp[2, 0] = Λ[vy['S'], vy['N'], vx['the']]\n",
    "\n",
    "df = pd.DataFrame(dp, index=y, columns=x)\n",
    "df"
   ]
  },
  {
   "cell_type": "markdown",
   "id": "ba1672bb-48b8-467c-83ec-c92d57e1ab45",
   "metadata": {},
   "source": [
    "# Fill in the rest of the table\n",
    "\n",
    "By hand ✍️"
   ]
  },
  {
   "cell_type": "code",
   "execution_count": 9,
   "id": "4e1bc8c6-1891-48d9-8f55-e51b19fe2df0",
   "metadata": {},
   "outputs": [
    {
     "data": {
      "text/html": [
       "<div>\n",
       "<style scoped>\n",
       "    .dataframe tbody tr th:only-of-type {\n",
       "        vertical-align: middle;\n",
       "    }\n",
       "\n",
       "    .dataframe tbody tr th {\n",
       "        vertical-align: top;\n",
       "    }\n",
       "\n",
       "    .dataframe thead th {\n",
       "        text-align: right;\n",
       "    }\n",
       "</style>\n",
       "<table border=\"1\" class=\"dataframe\">\n",
       "  <thead>\n",
       "    <tr style=\"text-align: right;\">\n",
       "      <th></th>\n",
       "      <th>the</th>\n",
       "      <th>dog</th>\n",
       "      <th>barks</th>\n",
       "    </tr>\n",
       "  </thead>\n",
       "  <tbody>\n",
       "    <tr>\n",
       "      <th>DT</th>\n",
       "      <td>0.663199</td>\n",
       "      <td>1.479333</td>\n",
       "      <td>0.0</td>\n",
       "    </tr>\n",
       "    <tr>\n",
       "      <th>N</th>\n",
       "      <td>0.929883</td>\n",
       "      <td>1.330036</td>\n",
       "      <td>0.0</td>\n",
       "    </tr>\n",
       "    <tr>\n",
       "      <th>V</th>\n",
       "      <td>0.929883</td>\n",
       "      <td>1.330036</td>\n",
       "      <td>0.0</td>\n",
       "    </tr>\n",
       "  </tbody>\n",
       "</table>\n",
       "</div>"
      ],
      "text/plain": [
       "         the       dog  barks\n",
       "DT  0.663199  1.479333    0.0\n",
       "N   0.929883  1.330036    0.0\n",
       "V   0.929883  1.330036    0.0"
      ]
     },
     "execution_count": 9,
     "metadata": {},
     "output_type": "execute_result"
    }
   ],
   "source": [
    "dp[0, 1] = dp[0, 0]*Λ[vy['DT'], vy['DT'], vx['dog']] + \\\n",
    "           dp[1, 0]*Λ[vy['N'], vy['DT'], vx['dog']] + \\\n",
    "           dp[2, 0]*Λ[vy['V'], vy['DT'], vx['dog']]\n",
    "\n",
    "dp[1, 1] = dp[0, 0]*Λ[vy['DT'], vy['N'], vx['dog']] + \\\n",
    "           dp[1, 0]*Λ[vy['N'], vy['N'], vx['dog']] + \\\n",
    "           dp[2, 0]*Λ[vy['V'], vy['N'], vx['dog']]\n",
    "\n",
    "dp[2, 1] = dp[0, 0]*Λ[vy['DT'], vy['N'], vx['dog']] + \\\n",
    "           dp[1, 0]*Λ[vy['N'], vy['N'], vx['dog']] + \\\n",
    "           dp[2, 0]*Λ[vy['V'], vy['N'], vx['dog']]\n",
    "\n",
    "df = pd.DataFrame(dp, index=y, columns=x)\n",
    "df"
   ]
  },
  {
   "cell_type": "code",
   "execution_count": 10,
   "id": "4b5b5e33-efe7-4650-a010-59822729a6e0",
   "metadata": {},
   "outputs": [
    {
     "data": {
      "text/html": [
       "<div>\n",
       "<style scoped>\n",
       "    .dataframe tbody tr th:only-of-type {\n",
       "        vertical-align: middle;\n",
       "    }\n",
       "\n",
       "    .dataframe tbody tr th {\n",
       "        vertical-align: top;\n",
       "    }\n",
       "\n",
       "    .dataframe thead th {\n",
       "        text-align: right;\n",
       "    }\n",
       "</style>\n",
       "<table border=\"1\" class=\"dataframe\">\n",
       "  <thead>\n",
       "    <tr style=\"text-align: right;\">\n",
       "      <th></th>\n",
       "      <th>the</th>\n",
       "      <th>dog</th>\n",
       "      <th>barks</th>\n",
       "    </tr>\n",
       "  </thead>\n",
       "  <tbody>\n",
       "    <tr>\n",
       "      <th>DT</th>\n",
       "      <td>0.663199</td>\n",
       "      <td>1.479333</td>\n",
       "      <td>2.531735</td>\n",
       "    </tr>\n",
       "    <tr>\n",
       "      <th>N</th>\n",
       "      <td>0.929883</td>\n",
       "      <td>1.330036</td>\n",
       "      <td>2.229314</td>\n",
       "    </tr>\n",
       "    <tr>\n",
       "      <th>V</th>\n",
       "      <td>0.929883</td>\n",
       "      <td>1.330036</td>\n",
       "      <td>2.229314</td>\n",
       "    </tr>\n",
       "  </tbody>\n",
       "</table>\n",
       "</div>"
      ],
      "text/plain": [
       "         the       dog     barks\n",
       "DT  0.663199  1.479333  2.531735\n",
       "N   0.929883  1.330036  2.229314\n",
       "V   0.929883  1.330036  2.229314"
      ]
     },
     "execution_count": 10,
     "metadata": {},
     "output_type": "execute_result"
    }
   ],
   "source": [
    "dp[0, 2] = dp[0, 1]*Λ[vy['DT'], vy['DT'], vx['dog']] + \\\n",
    "           dp[1, 1]*Λ[vy['N'], vy['DT'], vx['dog']] + \\\n",
    "           dp[2, 1]*Λ[vy['V'], vy['DT'], vx['dog']]\n",
    "\n",
    "dp[1, 2] = dp[0, 1]*Λ[vy['DT'], vy['N'], vx['dog']] + \\\n",
    "           dp[1, 1]*Λ[vy['N'], vy['N'], vx['dog']] + \\\n",
    "           dp[2, 1]*Λ[vy['V'], vy['N'], vx['dog']]\n",
    "\n",
    "dp[2, 2] = dp[0, 1]*Λ[vy['DT'], vy['N'], vx['dog']] + \\\n",
    "           dp[1, 1]*Λ[vy['N'], vy['N'], vx['dog']] + \\\n",
    "           dp[2, 1]*Λ[vy['V'], vy['N'], vx['dog']]\n",
    "\n",
    "df = pd.DataFrame(dp, index=y, columns=x)\n",
    "df"
   ]
  },
  {
   "cell_type": "code",
   "execution_count": 11,
   "id": "8342a96e-fd89-4ffc-8810-8c2c1547997e",
   "metadata": {},
   "outputs": [
    {
     "data": {
      "text/plain": [
       "0.7372603322796317"
      ]
     },
     "execution_count": 11,
     "metadata": {},
     "output_type": "execute_result"
    }
   ],
   "source": [
    "def predict_probability(y, x):\n",
    "    numerator = predict_score(y, x)\n",
    "    denominator = dp[:, -1].sum()\n",
    "    return numerator / denominator\n",
    "\n",
    "predict_probability(y, x)"
   ]
  }
 ],
 "metadata": {
  "kernelspec": {
   "display_name": "Python 3 (ipykernel)",
   "language": "python",
   "name": "python3"
  },
  "language_info": {
   "codemirror_mode": {
    "name": "ipython",
    "version": 3
   },
   "file_extension": ".py",
   "mimetype": "text/x-python",
   "name": "python",
   "nbconvert_exporter": "python",
   "pygments_lexer": "ipython3",
   "version": "3.9.6"
  }
 },
 "nbformat": 4,
 "nbformat_minor": 5
}
